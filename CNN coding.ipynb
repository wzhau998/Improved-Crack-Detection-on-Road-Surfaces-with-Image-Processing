{
  "cells": [
    {
      "cell_type": "markdown",
      "metadata": {
        "id": "-pev0n1baVjE"
      },
      "source": [
        "# Without Shadow Removal"
      ]
    },
    {
      "cell_type": "code",
      "execution_count": 1,
      "metadata": {
        "id": "ySBUZhI6aWFr"
      },
      "outputs": [],
      "source": [
        "import os\n",
        "import numpy as np\n",
        "import matplotlib.pyplot as plt\n",
        "from PIL import Image\n",
        "import keras\n",
        "from keras.preprocessing.image import ImageDataGenerator\n",
        "from keras.models import Sequential\n",
        "from keras.layers import Dense, Dropout, BatchNormalization\n",
        "from tensorflow.keras.callbacks import EarlyStopping\n",
        "from keras.applications import ResNet152V2, VGG19, MobileNetV2, DenseNet201, EfficientNetB7\n",
        "from keras.applications.resnet50 import preprocess_input\n",
        "from keras import regularizers\n",
        "from sklearn.metrics import confusion_matrix\n",
        "import seaborn as sns\n",
        "import matplotlib.pyplot as plt"
      ]
    },
    {
      "cell_type": "code",
      "execution_count": 2,
      "metadata": {
        "colab": {
          "base_uri": "https://localhost:8080/"
        },
        "id": "TpyU4ZBfI3mL",
        "outputId": "e5dc4e32-7b94-4058-ae30-a22c05390f82"
      },
      "outputs": [
        {
          "output_type": "stream",
          "name": "stdout",
          "text": [
            "/content\n",
            "Mounted at /content/drive\n"
          ]
        }
      ],
      "source": [
        "%cd /content\n",
        "\n",
        "!mkdir -p ./dataset\n",
        "from google.colab import drive\n",
        "drive.mount('/content/drive')\n",
        "\n",
        "!unrar x /content/drive/MyDrive/road_surface_raw.rar /content/dataset > /dev/null #without shadow removal and enlightenGAN = road_surface2\n",
        "!unrar x /content/drive/MyDrive/road_surface_shadow.rar /content/dataset > /dev/null #with shadow removal only = road_surface\n",
        "!unrar x /content/drive/MyDrive/road_surface_processed.rar /content/dataset > /dev/null #with shadow removal and enlightenGAN = road_surface1"
      ]
    },
    {
      "cell_type": "code",
      "source": [
        "num_classes = 2\n",
        "image_resize = 224\n",
        "batch_size_training = 80\n",
        "batch_size_validation = 80"
      ],
      "metadata": {
        "id": "qjY2HXK9VQ8O"
      },
      "execution_count": 3,
      "outputs": []
    },
    {
      "cell_type": "code",
      "execution_count": 4,
      "metadata": {
        "id": "2T8soCZhealR",
        "colab": {
          "base_uri": "https://localhost:8080/"
        },
        "outputId": "6eadc8cd-e2b5-4e39-89d2-d4b3fa668364"
      },
      "outputs": [
        {
          "output_type": "stream",
          "name": "stdout",
          "text": [
            "Found 1646 images belonging to 2 classes.\n",
            "Found 238 images belonging to 2 classes.\n"
          ]
        }
      ],
      "source": [
        "data_generator = ImageDataGenerator(\n",
        "    preprocessing_function=preprocess_input,\n",
        "    rotation_range=20,\n",
        "    width_shift_range=0.2,\n",
        "    height_shift_range=0.2,\n",
        "    shear_range=0.2,\n",
        "    zoom_range=0.2,\n",
        "    horizontal_flip=True,\n",
        "    vertical_flip=True)\n",
        "\n",
        "train_generator = data_generator.flow_from_directory(\n",
        "    '/content/dataset/road_surface2/train',\n",
        "    target_size=(image_resize, image_resize),\n",
        "    batch_size=batch_size_training,\n",
        "    class_mode='categorical')\n",
        "\n",
        "validation_generator = data_generator.flow_from_directory(\n",
        "    '/content/dataset/road_surface2/val',\n",
        "    target_size=(image_resize, image_resize),\n",
        "    batch_size=batch_size_validation,\n",
        "    class_mode='categorical')"
      ]
    },
    {
      "cell_type": "code",
      "execution_count": 5,
      "metadata": {
        "colab": {
          "base_uri": "https://localhost:8080/"
        },
        "id": "tIqfoz5WORbM",
        "outputId": "0cce3796-f8f7-4326-831c-d5380276346d"
      },
      "outputs": [
        {
          "output_type": "stream",
          "name": "stdout",
          "text": [
            "Downloading data from https://storage.googleapis.com/tensorflow/keras-applications/resnet/resnet152v2_weights_tf_dim_ordering_tf_kernels_notop.h5\n",
            "234545216/234545216 [==============================] - 12s 0us/step\n",
            "Model: \"sequential\"\n",
            "_________________________________________________________________\n",
            " Layer (type)                Output Shape              Param #   \n",
            "=================================================================\n",
            " resnet152v2 (Functional)    (None, 2048)              58331648  \n",
            "                                                                 \n",
            " batch_normalization (Batch  (None, 2048)              8192      \n",
            " Normalization)                                                  \n",
            "                                                                 \n",
            " dropout (Dropout)           (None, 2048)              0         \n",
            "                                                                 \n",
            " dense (Dense)               (None, 256)               524544    \n",
            "                                                                 \n",
            " batch_normalization_1 (Bat  (None, 256)               1024      \n",
            " chNormalization)                                                \n",
            "                                                                 \n",
            " dropout_1 (Dropout)         (None, 256)               0         \n",
            "                                                                 \n",
            " dense_1 (Dense)             (None, 128)               32896     \n",
            "                                                                 \n",
            " batch_normalization_2 (Bat  (None, 128)               512       \n",
            " chNormalization)                                                \n",
            "                                                                 \n",
            " dropout_2 (Dropout)         (None, 128)               0         \n",
            "                                                                 \n",
            " dense_2 (Dense)             (None, 2)                 258       \n",
            "                                                                 \n",
            "=================================================================\n",
            "Total params: 58899074 (224.68 MB)\n",
            "Trainable params: 562562 (2.15 MB)\n",
            "Non-trainable params: 58336512 (222.54 MB)\n",
            "_________________________________________________________________\n"
          ]
        }
      ],
      "source": [
        "model = Sequential()\n",
        "model.add(ResNet152V2(\n",
        "    include_top=False,\n",
        "    pooling='avg',\n",
        "    weights='imagenet',\n",
        "    classifier_activation=\"softmax\"\n",
        "    ))\n",
        "model.add(BatchNormalization())\n",
        "model.add(Dropout(0.5))\n",
        "model.add(Dense(256, activation='relu'))\n",
        "model.add(BatchNormalization())\n",
        "model.add(Dropout(0.3))\n",
        "model.add(Dense(128, activation='relu'))\n",
        "model.add(BatchNormalization())\n",
        "model.add(Dropout(0.3))\n",
        "model.add(Dense(num_classes, activation='sigmoid',kernel_regularizer=regularizers.l1_l2(l1=0.01, l2=0.01)))\n",
        "model.layers[0].trainable = False\n",
        "model.summary()\n",
        "model.compile(optimizer=keras.optimizers.Adam(learning_rate=0.0001), loss='categorical_crossentropy', metrics=['accuracy'])"
      ]
    },
    {
      "cell_type": "code",
      "source": [
        "steps_per_epoch_training = len(train_generator)\n",
        "steps_per_epoch_validation = len(validation_generator)\n",
        "num_epochs = 30\n",
        "early_stopping = EarlyStopping(patience=5, monitor='val_loss')"
      ],
      "metadata": {
        "id": "EGxt4X75VGkl"
      },
      "execution_count": 6,
      "outputs": []
    },
    {
      "cell_type": "code",
      "execution_count": 7,
      "metadata": {
        "colab": {
          "base_uri": "https://localhost:8080/"
        },
        "id": "w-KdakwZO9ul",
        "outputId": "e3f0f2ce-5ae7-4d3d-8daf-16b468533d56"
      },
      "outputs": [
        {
          "output_type": "stream",
          "name": "stderr",
          "text": [
            "<ipython-input-7-c12faaca829d>:1: UserWarning: `Model.fit_generator` is deprecated and will be removed in a future version. Please use `Model.fit`, which supports generators.\n",
            "  fit_history = model.fit_generator(\n"
          ]
        },
        {
          "output_type": "stream",
          "name": "stdout",
          "text": [
            "Epoch 1/30\n",
            "21/21 [==============================] - 98s 4s/step - loss: 1.0381 - accuracy: 0.7266 - val_loss: 4.1635 - val_accuracy: 0.4832\n",
            "Epoch 2/30\n",
            "21/21 [==============================] - 37s 2s/step - loss: 0.8481 - accuracy: 0.8384 - val_loss: 2.3291 - val_accuracy: 0.4790\n",
            "Epoch 3/30\n",
            "21/21 [==============================] - 35s 2s/step - loss: 0.7941 - accuracy: 0.8420 - val_loss: 1.4479 - val_accuracy: 0.5630\n",
            "Epoch 4/30\n",
            "21/21 [==============================] - 36s 2s/step - loss: 0.8033 - accuracy: 0.8408 - val_loss: 1.6377 - val_accuracy: 0.5126\n",
            "Epoch 5/30\n",
            "21/21 [==============================] - 35s 2s/step - loss: 0.7399 - accuracy: 0.8609 - val_loss: 1.7591 - val_accuracy: 0.4958\n",
            "Epoch 6/30\n",
            "21/21 [==============================] - 36s 2s/step - loss: 0.7112 - accuracy: 0.8597 - val_loss: 1.8277 - val_accuracy: 0.4664\n",
            "Epoch 7/30\n",
            "21/21 [==============================] - 36s 2s/step - loss: 0.7127 - accuracy: 0.8603 - val_loss: 1.7687 - val_accuracy: 0.5000\n",
            "Epoch 8/30\n",
            "21/21 [==============================] - 35s 2s/step - loss: 0.7014 - accuracy: 0.8651 - val_loss: 1.8648 - val_accuracy: 0.5000\n"
          ]
        }
      ],
      "source": [
        "fit_history = model.fit_generator(\n",
        "    train_generator,\n",
        "    steps_per_epoch=steps_per_epoch_training,\n",
        "    epochs=num_epochs,\n",
        "    validation_data=validation_generator,\n",
        "    validation_steps=steps_per_epoch_validation,\n",
        "    verbose=1,callbacks=[early_stopping]\n",
        ")"
      ]
    },
    {
      "cell_type": "code",
      "execution_count": 8,
      "metadata": {
        "colab": {
          "base_uri": "https://localhost:8080/",
          "height": 347
        },
        "id": "dAZP4hPfRRuP",
        "outputId": "6e4751ba-2350-4783-b463-810721db4f31"
      },
      "outputs": [
        {
          "output_type": "display_data",
          "data": {
            "text/plain": [
              "<Figure size 1000x700 with 2 Axes>"
            ],
            "image/png": "[encoded data removed]"
          },
          "metadata": {}
        }
      ],
      "source": [
        "fig = plt.figure(figsize =  (10,7))\n",
        "\n",
        "plt.subplot(221)\n",
        "plt.plot(fit_history.history['loss'], label='training loss')\n",
        "plt.plot(fit_history.history['val_loss'], label='validation loss')\n",
        "plt.title('model loss')\n",
        "plt.ylabel('loss')\n",
        "plt.xlabel('epoch')\n",
        "plt.grid()\n",
        "plt.legend()\n",
        "\n",
        "plt.subplot(222)\n",
        "plt.plot(fit_history.history['accuracy'], label='training accuracy')\n",
        "plt.plot(fit_history.history['val_accuracy'], label='validation accuracy')\n",
        "plt.title('model accuracy')\n",
        "plt.ylabel('accuracy')\n",
        "plt.xlabel('epoch')\n",
        "plt.grid()\n",
        "plt.legend()\n",
        "\n",
        "plt.show()"
      ]
    },
    {
      "cell_type": "code",
      "execution_count": 9,
      "metadata": {
        "id": "dE4wScyAScuX",
        "colab": {
          "base_uri": "https://localhost:8080/"
        },
        "outputId": "eb0641bc-d586-4f0f-fa68-5d0ceab50df1"
      },
      "outputs": [
        {
          "output_type": "stream",
          "name": "stdout",
          "text": [
            "Found 470 images belonging to 2 classes.\n"
          ]
        }
      ],
      "source": [
        "data_generator_test = ImageDataGenerator(\n",
        "    preprocessing_function=preprocess_input,)\n",
        "\n",
        "test_generator = data_generator_test.flow_from_directory(\n",
        "    '/content/dataset/road_surface2/test',\n",
        "    target_size=(image_resize, image_resize),\n",
        "    shuffle=False)"
      ]
    },
    {
      "cell_type": "code",
      "execution_count": 10,
      "metadata": {
        "colab": {
          "base_uri": "https://localhost:8080/",
          "height": 654
        },
        "id": "Y8jLcHmsbuyp",
        "outputId": "c5aad80d-982b-447d-9820-095798d38a72"
      },
      "outputs": [
        {
          "output_type": "stream",
          "name": "stderr",
          "text": [
            "<ipython-input-10-533a56fa025f>:6: UserWarning: `Model.predict_generator` is deprecated and will be removed in a future version. Please use `Model.predict`, which supports generators.\n",
            "  y_pred = model.predict_generator(test_generator, steps=None)  # Predicted labels\n"
          ]
        },
        {
          "output_type": "display_data",
          "data": {
            "text/plain": [
              "<Figure size 1000x700 with 2 Axes>"
            ],
            "image/png": "[encoded data removed]"
          },
          "metadata": {}
        }
      ],
      "source": [
        "import matplotlib.pyplot as plt\n",
        "import seaborn as sns\n",
        "from sklearn.metrics import confusion_matrix\n",
        "\n",
        "y_true = test_generator.classes  # Ground truth labels\n",
        "y_pred = model.predict_generator(test_generator, steps=None)  # Predicted labels\n",
        "y_pred = np.argmax(y_pred, axis=1)  # Convert predictions to class labels\n",
        "\n",
        "# Compute the confusion matrix\n",
        "cm=confusion_matrix = confusion_matrix(y_true, y_pred)\n",
        "\n",
        "# Create a heatmap\n",
        "plt.figure(figsize=(10,7))\n",
        "sns.heatmap(cm, annot=True, fmt='d')\n",
        "plt.xlabel('Predicted')\n",
        "plt.ylabel('Truth')\n",
        "plt.show()"
      ]
    },
    {
      "cell_type": "code",
      "execution_count": 11,
      "metadata": {
        "colab": {
          "base_uri": "https://localhost:8080/"
        },
        "id": "bJ1F1aU0M5Na",
        "outputId": "64a3de3d-5a0f-4819-c91e-0a3588ea9b82"
      },
      "outputs": [
        {
          "output_type": "stream",
          "name": "stdout",
          "text": [
            "Precision: 0.7224669603524229\n",
            "Recall: 0.6978723404255319\n",
            "F1 score: 0.7099567099567099\n"
          ]
        }
      ],
      "source": [
        "from sklearn.metrics import precision_score, recall_score, f1_score\n",
        "\n",
        "# Calculate precision, recall, and F1 score for each class\n",
        "precision = precision_score(y_true, y_pred)\n",
        "recall = recall_score(y_true, y_pred)\n",
        "f1 = f1_score(y_true, y_pred)\n",
        "\n",
        "print('Precision:', precision)\n",
        "print('Recall:', recall)\n",
        "print('F1 score:', f1)"
      ]
    },
    {
      "cell_type": "code",
      "execution_count": 12,
      "metadata": {
        "colab": {
          "base_uri": "https://localhost:8080/"
        },
        "id": "2GbkNLpMVLFT",
        "outputId": "53376da4-137e-41b5-d556-d64d45e9f28f"
      },
      "outputs": [
        {
          "output_type": "stream",
          "name": "stderr",
          "text": [
            "<ipython-input-12-2e5b5b2d6e1f>:1: UserWarning: `Model.evaluate_generator` is deprecated and will be removed in a future version. Please use `Model.evaluate`, which supports generators.\n",
            "  test_loss, test_accuracy = model.evaluate_generator(test_generator,steps=None, callbacks=None, max_queue_size=10, workers=1, use_multiprocessing=False)\n"
          ]
        },
        {
          "output_type": "stream",
          "name": "stdout",
          "text": [
            "Test Loss: 1.1547572612762451\n",
            "Test Accuracy: 0.714893639087677\n"
          ]
        }
      ],
      "source": [
        "test_loss, test_accuracy = model.evaluate_generator(test_generator,steps=None, callbacks=None, max_queue_size=10, workers=1, use_multiprocessing=False)\n",
        "print('Test Loss:', test_loss)\n",
        "print('Test Accuracy:', test_accuracy)"
      ]
    },
    {
      "cell_type": "markdown",
      "metadata": {
        "id": "8LHHvu18aiB5"
      },
      "source": [
        "# With Shadow Removal"
      ]
    },
    {
      "cell_type": "code",
      "execution_count": 17,
      "metadata": {
        "id": "IR85DodmchIg",
        "colab": {
          "base_uri": "https://localhost:8080/"
        },
        "outputId": "48c8172d-aaa2-4267-8ee9-c42acd6e35a3"
      },
      "outputs": [
        {
          "output_type": "stream",
          "name": "stdout",
          "text": [
            "Found 1646 images belonging to 2 classes.\n",
            "Found 238 images belonging to 2 classes.\n"
          ]
        }
      ],
      "source": [
        "data_generator = ImageDataGenerator(\n",
        "    preprocessing_function=preprocess_input,\n",
        "    rotation_range=20,\n",
        "    width_shift_range=0.2,\n",
        "    height_shift_range=0.2,\n",
        "    shear_range=0.2,\n",
        "    zoom_range=0.2,\n",
        "    horizontal_flip=True,\n",
        "    vertical_flip=True)\n",
        "\n",
        "train_generator = data_generator.flow_from_directory(\n",
        "    '/content/dataset/road_surface/train',\n",
        "    target_size=(image_resize, image_resize),\n",
        "    batch_size=batch_size_training,\n",
        "    class_mode='categorical')\n",
        "\n",
        "validation_generator = data_generator.flow_from_directory(\n",
        "    '/content/dataset/road_surface/val',\n",
        "    target_size=(image_resize, image_resize),\n",
        "    batch_size=batch_size_validation,\n",
        "    class_mode='categorical')"
      ]
    },
    {
      "cell_type": "code",
      "execution_count": 18,
      "metadata": {
        "id": "8inEh3W3azx7",
        "colab": {
          "base_uri": "https://localhost:8080/"
        },
        "outputId": "d9872656-46b4-4ba5-fa43-2f361df2f60d"
      },
      "outputs": [
        {
          "output_type": "stream",
          "name": "stdout",
          "text": [
            "Model: \"sequential_2\"\n",
            "_________________________________________________________________\n",
            " Layer (type)                Output Shape              Param #   \n",
            "=================================================================\n",
            " resnet152v2 (Functional)    (None, 2048)              58331648  \n",
            "                                                                 \n",
            " batch_normalization_6 (Bat  (None, 2048)              8192      \n",
            " chNormalization)                                                \n",
            "                                                                 \n",
            " dropout_6 (Dropout)         (None, 2048)              0         \n",
            "                                                                 \n",
            " dense_6 (Dense)             (None, 256)               524544    \n",
            "                                                                 \n",
            " batch_normalization_7 (Bat  (None, 256)               1024      \n",
            " chNormalization)                                                \n",
            "                                                                 \n",
            " dropout_7 (Dropout)         (None, 256)               0         \n",
            "                                                                 \n",
            " dense_7 (Dense)             (None, 128)               32896     \n",
            "                                                                 \n",
            " batch_normalization_8 (Bat  (None, 128)               512       \n",
            " chNormalization)                                                \n",
            "                                                                 \n",
            " dropout_8 (Dropout)         (None, 128)               0         \n",
            "                                                                 \n",
            " dense_8 (Dense)             (None, 2)                 258       \n",
            "                                                                 \n",
            "=================================================================\n",
            "Total params: 58899074 (224.68 MB)\n",
            "Trainable params: 562562 (2.15 MB)\n",
            "Non-trainable params: 58336512 (222.54 MB)\n",
            "_________________________________________________________________\n"
          ]
        }
      ],
      "source": [
        "model1 = Sequential()\n",
        "model1.add(ResNet152V2(\n",
        "    include_top=False,\n",
        "    pooling='avg',\n",
        "    weights='imagenet',\n",
        "    classifier_activation=\"softmax\"))\n",
        "model1.add(BatchNormalization())\n",
        "model1.add(Dropout(0.5))\n",
        "model1.add(Dense(256, activation='relu'))\n",
        "model1.add(BatchNormalization())\n",
        "model1.add(Dropout(0.3))\n",
        "model1.add(Dense(128, activation='relu'))\n",
        "model1.add(BatchNormalization())\n",
        "model1.add(Dropout(0.3))\n",
        "model1.add(Dense(num_classes, activation='sigmoid',kernel_regularizer=regularizers.l1_l2(l1=0.01, l2=0.01)))\n",
        "model1.layers[0].trainable = False\n",
        "model1.summary()\n",
        "model1.compile(optimizer=keras.optimizers.Adam(learning_rate=0.0001), loss='categorical_crossentropy', metrics=['accuracy'])"
      ]
    },
    {
      "cell_type": "code",
      "execution_count": 19,
      "metadata": {
        "id": "p3D_PKp2bBF3"
      },
      "outputs": [],
      "source": [
        "steps_per_epoch_training = len(train_generator)\n",
        "steps_per_epoch_validation = len(validation_generator)\n",
        "num_epochs = 30\n",
        "early_stopping = EarlyStopping(patience=5, monitor='val_loss')"
      ]
    },
    {
      "cell_type": "code",
      "execution_count": 20,
      "metadata": {
        "colab": {
          "base_uri": "https://localhost:8080/"
        },
        "id": "1NYNQe_obBIi",
        "outputId": "fb2fa879-8429-4f8b-9bb3-7c748a4b8aee"
      },
      "outputs": [
        {
          "output_type": "stream",
          "name": "stderr",
          "text": [
            "<ipython-input-20-c00f0094c4a5>:1: UserWarning: `Model.fit_generator` is deprecated and will be removed in a future version. Please use `Model.fit`, which supports generators.\n",
            "  fit_history1 = model1.fit_generator(\n"
          ]
        },
        {
          "output_type": "stream",
          "name": "stdout",
          "text": [
            "Epoch 1/30\n",
            "21/21 [==============================] - 61s 2s/step - loss: 1.1848 - accuracy: 0.6604 - val_loss: 3.7444 - val_accuracy: 0.4664\n",
            "Epoch 2/30\n",
            "21/21 [==============================] - 48s 2s/step - loss: 0.9313 - accuracy: 0.7691 - val_loss: 2.0477 - val_accuracy: 0.5042\n",
            "Epoch 3/30\n",
            "21/21 [==============================] - 36s 2s/step - loss: 0.8655 - accuracy: 0.7819 - val_loss: 1.9939 - val_accuracy: 0.4706\n",
            "Epoch 4/30\n",
            "21/21 [==============================] - 35s 2s/step - loss: 0.8689 - accuracy: 0.7904 - val_loss: 1.8070 - val_accuracy: 0.4748\n",
            "Epoch 5/30\n",
            "21/21 [==============================] - 43s 2s/step - loss: 0.8620 - accuracy: 0.7855 - val_loss: 1.4825 - val_accuracy: 0.5294\n",
            "Epoch 6/30\n",
            "21/21 [==============================] - 34s 2s/step - loss: 0.8014 - accuracy: 0.8123 - val_loss: 1.4254 - val_accuracy: 0.5504\n",
            "Epoch 7/30\n",
            "21/21 [==============================] - 37s 2s/step - loss: 0.8370 - accuracy: 0.8007 - val_loss: 1.4429 - val_accuracy: 0.4916\n",
            "Epoch 8/30\n",
            "21/21 [==============================] - 35s 2s/step - loss: 0.8180 - accuracy: 0.7989 - val_loss: 1.3926 - val_accuracy: 0.4790\n",
            "Epoch 9/30\n",
            "21/21 [==============================] - 35s 2s/step - loss: 0.7580 - accuracy: 0.8159 - val_loss: 1.3661 - val_accuracy: 0.5084\n",
            "Epoch 10/30\n",
            "21/21 [==============================] - 36s 2s/step - loss: 0.7762 - accuracy: 0.8214 - val_loss: 1.3677 - val_accuracy: 0.4706\n",
            "Epoch 11/30\n",
            "21/21 [==============================] - 36s 2s/step - loss: 0.7710 - accuracy: 0.8159 - val_loss: 1.2655 - val_accuracy: 0.5294\n",
            "Epoch 12/30\n",
            "21/21 [==============================] - 35s 2s/step - loss: 0.7426 - accuracy: 0.8299 - val_loss: 1.2361 - val_accuracy: 0.5294\n",
            "Epoch 13/30\n",
            "21/21 [==============================] - 35s 2s/step - loss: 0.7731 - accuracy: 0.8098 - val_loss: 1.2459 - val_accuracy: 0.5084\n",
            "Epoch 14/30\n",
            "21/21 [==============================] - 35s 2s/step - loss: 0.7276 - accuracy: 0.8275 - val_loss: 1.2173 - val_accuracy: 0.5504\n",
            "Epoch 15/30\n",
            "21/21 [==============================] - 41s 2s/step - loss: 0.7149 - accuracy: 0.8366 - val_loss: 1.1428 - val_accuracy: 0.5630\n",
            "Epoch 16/30\n",
            "21/21 [==============================] - 34s 2s/step - loss: 0.7479 - accuracy: 0.8165 - val_loss: 1.1556 - val_accuracy: 0.5798\n",
            "Epoch 17/30\n",
            "21/21 [==============================] - 35s 2s/step - loss: 0.7124 - accuracy: 0.8426 - val_loss: 1.1572 - val_accuracy: 0.5840\n",
            "Epoch 18/30\n",
            "21/21 [==============================] - 35s 2s/step - loss: 0.7142 - accuracy: 0.8390 - val_loss: 1.2070 - val_accuracy: 0.5252\n",
            "Epoch 19/30\n",
            "21/21 [==============================] - 35s 2s/step - loss: 0.6881 - accuracy: 0.8487 - val_loss: 1.2288 - val_accuracy: 0.5504\n",
            "Epoch 20/30\n",
            "21/21 [==============================] - 41s 2s/step - loss: 0.6864 - accuracy: 0.8420 - val_loss: 1.2146 - val_accuracy: 0.5294\n"
          ]
        }
      ],
      "source": [
        "fit_history1 = model1.fit_generator(\n",
        "    train_generator,\n",
        "    steps_per_epoch=steps_per_epoch_training,\n",
        "    epochs=num_epochs,\n",
        "    validation_data=validation_generator,\n",
        "    validation_steps=steps_per_epoch_validation,\n",
        "    verbose=1,callbacks=[early_stopping]\n",
        ")"
      ]
    },
    {
      "cell_type": "code",
      "execution_count": 21,
      "metadata": {
        "colab": {
          "base_uri": "https://localhost:8080/",
          "height": 347
        },
        "id": "pDjPBc8oL4n9",
        "outputId": "9eba0359-757c-434b-eb29-1133feedc7da"
      },
      "outputs": [
        {
          "output_type": "display_data",
          "data": {
            "text/plain": [
              "<Figure size 1000x700 with 2 Axes>"
            ],
            "image/png": "[encoded data removed]"
          },
          "metadata": {}
        }
      ],
      "source": [
        "fig = plt.figure(figsize =  (10,7))\n",
        "\n",
        "plt.subplot(221)\n",
        "plt.plot(fit_history.history['loss'], label='training loss')\n",
        "plt.plot(fit_history.history['val_loss'], label='validation loss')\n",
        "plt.title('model loss')\n",
        "plt.ylabel('loss')\n",
        "plt.xlabel('epoch')\n",
        "plt.grid()\n",
        "plt.legend()\n",
        "\n",
        "plt.subplot(222)\n",
        "plt.plot(fit_history.history['accuracy'], label='training accuracy')\n",
        "plt.plot(fit_history.history['val_accuracy'], label='validation accuracy')\n",
        "plt.title('model accuracy')\n",
        "plt.ylabel('accuracy')\n",
        "plt.xlabel('epoch')\n",
        "plt.grid()\n",
        "plt.legend()\n",
        "\n",
        "plt.show()"
      ]
    },
    {
      "cell_type": "code",
      "execution_count": 22,
      "metadata": {
        "id": "cdvBZ9K3ckdF",
        "colab": {
          "base_uri": "https://localhost:8080/"
        },
        "outputId": "a892b903-0a2d-4c31-b9ff-2504e9fc2626"
      },
      "outputs": [
        {
          "output_type": "stream",
          "name": "stdout",
          "text": [
            "Found 470 images belonging to 2 classes.\n"
          ]
        }
      ],
      "source": [
        "data_generator_test = ImageDataGenerator(\n",
        "    preprocessing_function=preprocess_input,)\n",
        "\n",
        "test_generator = data_generator_test.flow_from_directory(\n",
        "    '/content/dataset/road_surface/test',\n",
        "    target_size=(image_resize, image_resize),\n",
        "    shuffle=False)"
      ]
    },
    {
      "cell_type": "code",
      "execution_count": 23,
      "metadata": {
        "colab": {
          "base_uri": "https://localhost:8080/",
          "height": 654
        },
        "id": "4HaZsUASS_sX",
        "outputId": "347630a2-3417-4242-d832-456793cc1323"
      },
      "outputs": [
        {
          "output_type": "stream",
          "name": "stderr",
          "text": [
            "<ipython-input-23-18a9dff66062>:6: UserWarning: `Model.predict_generator` is deprecated and will be removed in a future version. Please use `Model.predict`, which supports generators.\n",
            "  y_pred = model1.predict_generator(test_generator, steps=None)  # Predicted probabilities\n"
          ]
        },
        {
          "output_type": "display_data",
          "data": {
            "text/plain": [
              "<Figure size 1000x700 with 2 Axes>"
            ],
            "image/png": "[encoded data removed]"
          },
          "metadata": {}
        }
      ],
      "source": [
        "import matplotlib.pyplot as plt\n",
        "import seaborn as sns\n",
        "from sklearn.metrics import confusion_matrix\n",
        "\n",
        "y_true = test_generator.classes  # Ground truth labels\n",
        "y_pred = model1.predict_generator(test_generator, steps=None)  # Predicted probabilities\n",
        "\n",
        "# Convert predicted probabilities to class labels\n",
        "y_pred = np.argmax(y_pred, axis=1)\n",
        "\n",
        "cm = confusion_matrix(y_true, y_pred)\n",
        "\n",
        "# Create a heatmap\n",
        "plt.figure(figsize=(10,7))\n",
        "sns.heatmap(cm, annot=True, fmt='d')\n",
        "plt.xlabel('Predicted')\n",
        "plt.ylabel('Truth')\n",
        "plt.show()"
      ]
    },
    {
      "cell_type": "code",
      "execution_count": 24,
      "metadata": {
        "colab": {
          "base_uri": "https://localhost:8080/"
        },
        "id": "aCbbJrQnStBC",
        "outputId": "08eefa6e-92ea-4e99-8030-b9581f1f6c1e"
      },
      "outputs": [
        {
          "output_type": "stream",
          "name": "stdout",
          "text": [
            "Precision: 0.7833333333333333\n",
            "Recall: 0.8\n",
            "F1 score: 0.791578947368421\n"
          ]
        }
      ],
      "source": [
        "from sklearn.metrics import precision_score, recall_score, f1_score\n",
        "\n",
        "# Calculate precision, recall, and F1 score for each class\n",
        "precision = precision_score(y_true, y_pred)\n",
        "recall = recall_score(y_true, y_pred)\n",
        "f1 = f1_score(y_true, y_pred)\n",
        "\n",
        "print('Precision:', precision)\n",
        "print('Recall:', recall)\n",
        "print('F1 score:', f1)"
      ]
    },
    {
      "cell_type": "code",
      "execution_count": 25,
      "metadata": {
        "colab": {
          "base_uri": "https://localhost:8080/"
        },
        "id": "nZ-UQrHRcJtQ",
        "outputId": "fdf5d535-673e-4f61-a4a3-9bda1f99c47a"
      },
      "outputs": [
        {
          "output_type": "stream",
          "name": "stderr",
          "text": [
            "<ipython-input-25-0b1e45ffdc21>:1: UserWarning: `Model.evaluate_generator` is deprecated and will be removed in a future version. Please use `Model.evaluate`, which supports generators.\n",
            "  test_loss1, test_accuracy1 = model1.evaluate_generator(test_generator,steps=None, callbacks=None, max_queue_size=10, workers=1, use_multiprocessing=False)\n"
          ]
        },
        {
          "output_type": "stream",
          "name": "stdout",
          "text": [
            "Test Loss: 0.8262770175933838\n",
            "Test Accuracy: 0.7893617153167725\n"
          ]
        }
      ],
      "source": [
        "test_loss1, test_accuracy1 = model1.evaluate_generator(test_generator,steps=None, callbacks=None, max_queue_size=10, workers=1, use_multiprocessing=False)\n",
        "print('Test Loss:', test_loss1)\n",
        "print('Test Accuracy:', test_accuracy1)"
      ]
    },
    {
      "cell_type": "markdown",
      "metadata": {
        "id": "EX2mgAJHT4YB"
      },
      "source": [
        "# With Shadow Removal and EnlightenGAN\n",
        "## ResNet152"
      ]
    },
    {
      "cell_type": "code",
      "execution_count": 26,
      "metadata": {
        "id": "Hcz4e0GQT_EQ",
        "colab": {
          "base_uri": "https://localhost:8080/"
        },
        "outputId": "2f9aad54-7afa-4d03-9f1d-a88f4e52e42e"
      },
      "outputs": [
        {
          "output_type": "stream",
          "name": "stdout",
          "text": [
            "Found 1646 images belonging to 2 classes.\n",
            "Found 238 images belonging to 2 classes.\n"
          ]
        }
      ],
      "source": [
        "data_generator = ImageDataGenerator(\n",
        "    preprocessing_function=preprocess_input,\n",
        "    rotation_range=20,\n",
        "    width_shift_range=0.2,\n",
        "    height_shift_range=0.2,\n",
        "    shear_range=0.2,\n",
        "    zoom_range=0.2,\n",
        "    horizontal_flip=True,\n",
        "    vertical_flip=True)\n",
        "\n",
        "train_generator = data_generator.flow_from_directory(\n",
        "    '/content/dataset/road_surface1/train',\n",
        "    target_size=(image_resize, image_resize),\n",
        "    batch_size=batch_size_training,\n",
        "    class_mode='categorical')\n",
        "\n",
        "validation_generator = data_generator.flow_from_directory(\n",
        "    '/content/dataset/road_surface1/val',\n",
        "    target_size=(image_resize, image_resize),\n",
        "    batch_size=batch_size_validation,\n",
        "    class_mode='categorical')"
      ]
    },
    {
      "cell_type": "code",
      "execution_count": 27,
      "metadata": {
        "id": "DRapZbReUEFW",
        "colab": {
          "base_uri": "https://localhost:8080/"
        },
        "outputId": "6a3b7d1e-c923-48b5-e457-b009a5171e40"
      },
      "outputs": [
        {
          "output_type": "stream",
          "name": "stdout",
          "text": [
            "Model: \"sequential_3\"\n",
            "_________________________________________________________________\n",
            " Layer (type)                Output Shape              Param #   \n",
            "=================================================================\n",
            " resnet152v2 (Functional)    (None, 2048)              58331648  \n",
            "                                                                 \n",
            " batch_normalization_9 (Bat  (None, 2048)              8192      \n",
            " chNormalization)                                                \n",
            "                                                                 \n",
            " dropout_9 (Dropout)         (None, 2048)              0         \n",
            "                                                                 \n",
            " dense_9 (Dense)             (None, 256)               524544    \n",
            "                                                                 \n",
            " batch_normalization_10 (Ba  (None, 256)               1024      \n",
            " tchNormalization)                                               \n",
            "                                                                 \n",
            " dropout_10 (Dropout)        (None, 256)               0         \n",
            "                                                                 \n",
            " dense_10 (Dense)            (None, 128)               32896     \n",
            "                                                                 \n",
            " batch_normalization_11 (Ba  (None, 128)               512       \n",
            " tchNormalization)                                               \n",
            "                                                                 \n",
            " dropout_11 (Dropout)        (None, 128)               0         \n",
            "                                                                 \n",
            " dense_11 (Dense)            (None, 2)                 258       \n",
            "                                                                 \n",
            "=================================================================\n",
            "Total params: 58899074 (224.68 MB)\n",
            "Trainable params: 562562 (2.15 MB)\n",
            "Non-trainable params: 58336512 (222.54 MB)\n",
            "_________________________________________________________________\n"
          ]
        }
      ],
      "source": [
        "model2 = Sequential()\n",
        "model2.add(ResNet152V2(\n",
        "    include_top=False,\n",
        "    pooling='avg',\n",
        "    weights='imagenet',\n",
        "    classifier_activation=\"softmax\"))\n",
        "model2.add(BatchNormalization())\n",
        "model2.add(Dropout(0.5))\n",
        "model2.add(Dense(256, activation='relu'))\n",
        "model2.add(BatchNormalization())\n",
        "model2.add(Dropout(0.3))\n",
        "model2.add(Dense(128, activation='relu'))\n",
        "model2.add(BatchNormalization())\n",
        "model2.add(Dropout(0.3))\n",
        "model2.add(Dense(num_classes, activation='sigmoid',kernel_regularizer=regularizers.l1_l2(l1=0.01, l2=0.01)))\n",
        "model2.layers[0].trainable = False\n",
        "model2.summary()\n",
        "model2.compile(optimizer=keras.optimizers.Adam(learning_rate=0.0001), loss='categorical_crossentropy', metrics=['accuracy'])"
      ]
    },
    {
      "cell_type": "code",
      "execution_count": 28,
      "metadata": {
        "colab": {
          "base_uri": "https://localhost:8080/"
        },
        "id": "1JySxIVHUZIp",
        "outputId": "b7dd7326-aa29-45f3-9937-a8f28f99b558"
      },
      "outputs": [
        {
          "output_type": "stream",
          "name": "stderr",
          "text": [
            "<ipython-input-28-915ad319d9ae>:6: UserWarning: `Model.fit_generator` is deprecated and will be removed in a future version. Please use `Model.fit`, which supports generators.\n",
            "  fit_history2 = model2.fit_generator(\n"
          ]
        },
        {
          "output_type": "stream",
          "name": "stdout",
          "text": [
            "Epoch 1/30\n",
            "21/21 [==============================] - 51s 2s/step - loss: 0.7192 - accuracy: 0.8378 - val_loss: 19.6936 - val_accuracy: 0.5000\n",
            "21/21 [==============================] - 36s 2s/step - loss: 0.5278 - accuracy: 0.9344 - val_loss: 14.3285 - val_accuracy: 0.5000\n",
            "Epoch 3/30\n",
            "21/21 [==============================] - 35s 2s/step - loss: 0.5350 - accuracy: 0.9301 - val_loss: 9.3804 - val_accuracy: 0.5000\n",
            "Epoch 4/30\n",
            "21/21 [==============================] - 35s 2s/step - loss: 0.5320 - accuracy: 0.9253 - val_loss: 6.1667 - val_accuracy: 0.5126\n",
            "Epoch 5/30\n",
            "21/21 [==============================] - 35s 2s/step - loss: 0.5082 - accuracy: 0.9374 - val_loss: 4.1716 - val_accuracy: 0.5924\n",
            "Epoch 6/30\n",
            "21/21 [==============================] - 35s 2s/step - loss: 0.5184 - accuracy: 0.9326 - val_loss: 2.5527 - val_accuracy: 0.7437\n",
            "Epoch 7/30\n",
            "21/21 [==============================] - 35s 2s/step - loss: 0.4784 - accuracy: 0.9459 - val_loss: 1.9793 - val_accuracy: 0.7941\n",
            "Epoch 8/30\n",
            "21/21 [==============================] - 36s 2s/step - loss: 0.5087 - accuracy: 0.9368 - val_loss: 1.6969 - val_accuracy: 0.8235\n",
            "Epoch 9/30\n",
            "21/21 [==============================] - 35s 2s/step - loss: 0.4594 - accuracy: 0.9435 - val_loss: 1.3455 - val_accuracy: 0.8487\n",
            "Epoch 10/30\n",
            "21/21 [==============================] - 35s 2s/step - loss: 0.4821 - accuracy: 0.9405 - val_loss: 1.1347 - val_accuracy: 0.8908\n",
            "Epoch 11/30\n",
            "21/21 [==============================] - 41s 2s/step - loss: 0.4535 - accuracy: 0.9496 - val_loss: 0.8662 - val_accuracy: 0.8950\n",
            "Epoch 12/30\n",
            "21/21 [==============================] - 35s 2s/step - loss: 0.4646 - accuracy: 0.9399 - val_loss: 0.8836 - val_accuracy: 0.9118\n",
            "Epoch 13/30\n",
            "21/21 [==============================] - 37s 2s/step - loss: 0.4560 - accuracy: 0.9441 - val_loss: 0.8183 - val_accuracy: 0.9034\n",
            "Epoch 14/30\n",
            "21/21 [==============================] - 35s 2s/step - loss: 0.4436 - accuracy: 0.9538 - val_loss: 0.7140 - val_accuracy: 0.9034\n",
            "Epoch 15/30\n",
            "21/21 [==============================] - 35s 2s/step - loss: 0.4165 - accuracy: 0.9587 - val_loss: 0.6819 - val_accuracy: 0.9118\n",
            "Epoch 16/30\n",
            "21/21 [==============================] - 35s 2s/step - loss: 0.4230 - accuracy: 0.9557 - val_loss: 0.6040 - val_accuracy: 0.9412\n",
            "Epoch 17/30\n",
            "21/21 [==============================] - 36s 2s/step - loss: 0.4230 - accuracy: 0.9575 - val_loss: 0.6534 - val_accuracy: 0.9160\n",
            "Epoch 18/30\n",
            "21/21 [==============================] - 36s 2s/step - loss: 0.4266 - accuracy: 0.9484 - val_loss: 0.5563 - val_accuracy: 0.9244\n",
            "Epoch 19/30\n",
            "21/21 [==============================] - 35s 2s/step - loss: 0.4285 - accuracy: 0.9490 - val_loss: 0.5273 - val_accuracy: 0.9328\n",
            "Epoch 20/30\n",
            "21/21 [==============================] - 37s 2s/step - loss: 0.4121 - accuracy: 0.9557 - val_loss: 0.6135 - val_accuracy: 0.9244\n",
            "Epoch 21/30\n",
            "21/21 [==============================] - 35s 2s/step - loss: 0.4052 - accuracy: 0.9532 - val_loss: 0.4539 - val_accuracy: 0.9370\n",
            "Epoch 22/30\n",
            "21/21 [==============================] - 37s 2s/step - loss: 0.3904 - accuracy: 0.9605 - val_loss: 0.5173 - val_accuracy: 0.9328\n",
            "Epoch 23/30\n",
            "21/21 [==============================] - 35s 2s/step - loss: 0.4027 - accuracy: 0.9508 - val_loss: 0.5636 - val_accuracy: 0.9370\n",
            "Epoch 24/30\n",
            "21/21 [==============================] - 35s 2s/step - loss: 0.3901 - accuracy: 0.9599 - val_loss: 0.4425 - val_accuracy: 0.9454\n",
            "Epoch 25/30\n",
            "21/21 [==============================] - 35s 2s/step - loss: 0.3976 - accuracy: 0.9520 - val_loss: 0.4846 - val_accuracy: 0.9286\n",
            "Epoch 26/30\n",
            "21/21 [==============================] - 35s 2s/step - loss: 0.3872 - accuracy: 0.9617 - val_loss: 0.4286 - val_accuracy: 0.9538\n",
            "Epoch 27/30\n",
            "21/21 [==============================] - 35s 2s/step - loss: 0.3851 - accuracy: 0.9575 - val_loss: 0.4599 - val_accuracy: 0.9328\n",
            "Epoch 28/30\n",
            "21/21 [==============================] - 37s 2s/step - loss: 0.3538 - accuracy: 0.9684 - val_loss: 0.4859 - val_accuracy: 0.9580\n",
            "Epoch 29/30\n",
            "21/21 [==============================] - 35s 2s/step - loss: 0.3704 - accuracy: 0.9617 - val_loss: 0.4498 - val_accuracy: 0.9412\n",
            "Epoch 30/30\n",
            "21/21 [==============================] - 41s 2s/step - loss: 0.3771 - accuracy: 0.9557 - val_loss: 0.4524 - val_accuracy: 0.9370\n"
          ]
        }
      ],
      "source": [
        "steps_per_epoch_training = len(train_generator)\n",
        "steps_per_epoch_validation = len(validation_generator)\n",
        "num_epochs = 30\n",
        "early_stopping = EarlyStopping(patience=5, monitor='val_loss')\n",
        "\n",
        "fit_history2 = model2.fit_generator(\n",
        "    train_generator,\n",
        "    steps_per_epoch=steps_per_epoch_training,\n",
        "    epochs=num_epochs,\n",
        "    validation_data=validation_generator,\n",
        "    validation_steps=steps_per_epoch_validation,\n",
        "    verbose=1,callbacks=[early_stopping]\n",
        ")"
      ]
    },
    {
      "cell_type": "code",
      "source": [
        "data_generator_test = ImageDataGenerator(\n",
        "    preprocessing_function=preprocess_input,)\n",
        "\n",
        "test_generator = data_generator_test.flow_from_directory(\n",
        "    '/content/dataset/road_surface1/test',\n",
        "    target_size=(image_resize, image_resize),\n",
        "    shuffle=False)"
      ],
      "metadata": {
        "colab": {
          "base_uri": "https://localhost:8080/"
        },
        "id": "RP7RpHG94qjN",
        "outputId": "defb0c35-47c5-4e05-e64c-3a84c9cd01f6"
      },
      "execution_count": 29,
      "outputs": [
        {
          "output_type": "stream",
          "name": "stdout",
          "text": [
            "Found 470 images belonging to 2 classes.\n"
          ]
        }
      ]
    },
    {
      "cell_type": "code",
      "execution_count": 30,
      "metadata": {
        "colab": {
          "base_uri": "https://localhost:8080/",
          "height": 347
        },
        "id": "fAzZOuZTUZLY",
        "outputId": "ef2b7a0f-e6f5-4b9c-e0ad-2564d16641b4"
      },
      "outputs": [
        {
          "output_type": "display_data",
          "data": {
            "text/plain": [
              "<Figure size 1000x700 with 2 Axes>"
            ],
            "image/png": "[encoded data removed]"
          },
          "metadata": {}
        }
      ],
      "source": [
        "fig = plt.figure(figsize =  (10,7))\n",
        "\n",
        "plt.subplot(221)\n",
        "plt.plot(fit_history2.history['loss'], label='training loss')\n",
        "plt.plot(fit_history2.history['val_loss'], label='validation loss')\n",
        "plt.title('model loss')\n",
        "plt.ylabel('loss')\n",
        "plt.xlabel('epoch')\n",
        "plt.grid()\n",
        "plt.legend()\n",
        "\n",
        "plt.subplot(222)\n",
        "plt.plot(fit_history2.history['accuracy'], label='training accuracy')\n",
        "plt.plot(fit_history2.history['val_accuracy'], label='validation accuracy')\n",
        "plt.title('model accuracy')\n",
        "plt.ylabel('accuracy')\n",
        "plt.xlabel('epoch')\n",
        "plt.grid()\n",
        "plt.legend()\n",
        "\n",
        "plt.show()"
      ]
    },
    {
      "cell_type": "code",
      "execution_count": 31,
      "metadata": {
        "colab": {
          "base_uri": "https://localhost:8080/",
          "height": 654
        },
        "id": "Lj491zdcUgyg",
        "outputId": "6eca127e-1e81-433f-f6c6-b72bdda51783"
      },
      "outputs": [
        {
          "output_type": "stream",
          "name": "stderr",
          "text": [
            "<ipython-input-31-d2fac68f460c>:2: UserWarning: `Model.predict_generator` is deprecated and will be removed in a future version. Please use `Model.predict`, which supports generators.\n",
            "  y_pred = model2.predict_generator(test_generator, steps=None)  # Predicted probabilities\n"
          ]
        },
        {
          "output_type": "display_data",
          "data": {
            "text/plain": [
              "<Figure size 1000x700 with 2 Axes>"
            ],
            "image/png": "[encoded data removed]"
          },
          "metadata": {}
        }
      ],
      "source": [
        "y_true = test_generator.classes  # Ground truth labels\n",
        "y_pred = model2.predict_generator(test_generator, steps=None)  # Predicted probabilities\n",
        "\n",
        "# Convert predicted probabilities to class labels\n",
        "y_pred = np.argmax(y_pred, axis=1)\n",
        "\n",
        "cm = confusion_matrix(y_true, y_pred)\n",
        "\n",
        "# Create a heatmap\n",
        "plt.figure(figsize=(10,7))\n",
        "sns.heatmap(cm, annot=True, fmt='d')\n",
        "plt.xlabel('Predicted')\n",
        "plt.ylabel('Truth')\n",
        "plt.show()"
      ]
    },
    {
      "cell_type": "code",
      "execution_count": 32,
      "metadata": {
        "colab": {
          "base_uri": "https://localhost:8080/"
        },
        "id": "k1AfaUXhUg3d",
        "outputId": "bc2e6095-0c09-415b-b62c-79cc486dd2b3"
      },
      "outputs": [
        {
          "output_type": "stream",
          "name": "stdout",
          "text": [
            "Precision: 0.956989247311828\n",
            "Recall: 0.7574468085106383\n",
            "F1 score: 0.8456057007125891\n"
          ]
        }
      ],
      "source": [
        "from sklearn.metrics import precision_score, recall_score, f1_score\n",
        "\n",
        "# Calculate precision, recall, and F1 score for each class\n",
        "precision = precision_score(y_true, y_pred)\n",
        "recall = recall_score(y_true, y_pred)\n",
        "f1 = f1_score(y_true, y_pred)\n",
        "\n",
        "print('Precision:', precision)\n",
        "print('Recall:', recall)\n",
        "print('F1 score:', f1)"
      ]
    },
    {
      "cell_type": "code",
      "execution_count": 34,
      "metadata": {
        "colab": {
          "base_uri": "https://localhost:8080/"
        },
        "id": "Jz0Ti858UlyN",
        "outputId": "7671a093-1ab8-4bf1-cd57-0e491bede9c1"
      },
      "outputs": [
        {
          "output_type": "stream",
          "name": "stderr",
          "text": [
            "<ipython-input-34-f4935018527a>:1: UserWarning: `Model.evaluate_generator` is deprecated and will be removed in a future version. Please use `Model.evaluate`, which supports generators.\n",
            "  test_loss2, test_accuracy2 = model2.evaluate_generator(test_generator,steps=None, callbacks=None, max_queue_size=10, workers=1, use_multiprocessing=False)\n"
          ]
        },
        {
          "output_type": "stream",
          "name": "stdout",
          "text": [
            "Test Loss: 0.7110422849655151\n",
            "Test Accuracy: 0.8617021441459656\n"
          ]
        }
      ],
      "source": [
        "test_loss2, test_accuracy2 = model2.evaluate_generator(test_generator,steps=None, callbacks=None, max_queue_size=10, workers=1, use_multiprocessing=False)\n",
        "print('Test Loss:', test_loss2)\n",
        "print('Test Accuracy:', test_accuracy2)"
      ]
    },
    {
      "cell_type": "markdown",
      "metadata": {
        "id": "ZJ9duB-g6Mmy"
      },
      "source": [
        "## VGG19"
      ]
    },
    {
      "cell_type": "code",
      "source": [
        "model3 = Sequential()\n",
        "model3.add(VGG19(\n",
        "    include_top=False,\n",
        "    pooling='avg',\n",
        "    weights='imagenet',\n",
        "    classifier_activation=\"softmax\"\n",
        "    ))\n",
        "model3.add(BatchNormalization())\n",
        "model3.add(Dropout(0.5))\n",
        "model3.add(Dense(256, activation='relu'))\n",
        "model3.add(BatchNormalization())\n",
        "model3.add(Dropout(0.3))\n",
        "model3.add(Dense(128, activation='relu'))\n",
        "model3.add(BatchNormalization())\n",
        "model3.add(Dropout(0.3))\n",
        "model3.add(Dense(num_classes, activation='sigmoid',kernel_regularizer=regularizers.l1_l2(l1=0.01, l2=0.01)))\n",
        "model3.layers[0].trainable = False\n",
        "model3.summary()\n",
        "model3.compile(optimizer=keras.optimizers.Adam(learning_rate=0.0001), loss='categorical_crossentropy', metrics=['accuracy'])"
      ],
      "metadata": {
        "id": "m8288aACmyAQ",
        "colab": {
          "base_uri": "https://localhost:8080/"
        },
        "outputId": "779e12b0-0049-4079-9df2-c1f6c17b030f"
      },
      "execution_count": 35,
      "outputs": [
        {
          "output_type": "stream",
          "name": "stdout",
          "text": [
            "Downloading data from https://storage.googleapis.com/tensorflow/keras-applications/vgg19/vgg19_weights_tf_dim_ordering_tf_kernels_notop.h5\n",
            "80134624/80134624 [==============================] - 4s 0us/step\n",
            "Model: \"sequential_4\"\n",
            "_________________________________________________________________\n",
            " Layer (type)                Output Shape              Param #   \n",
            "=================================================================\n",
            " vgg19 (Functional)          (None, 512)               20024384  \n",
            "                                                                 \n",
            " batch_normalization_12 (Ba  (None, 512)               2048      \n",
            " tchNormalization)                                               \n",
            "                                                                 \n",
            " dropout_12 (Dropout)        (None, 512)               0         \n",
            "                                                                 \n",
            " dense_12 (Dense)            (None, 256)               131328    \n",
            "                                                                 \n",
            " batch_normalization_13 (Ba  (None, 256)               1024      \n",
            " tchNormalization)                                               \n",
            "                                                                 \n",
            " dropout_13 (Dropout)        (None, 256)               0         \n",
            "                                                                 \n",
            " dense_13 (Dense)            (None, 128)               32896     \n",
            "                                                                 \n",
            " batch_normalization_14 (Ba  (None, 128)               512       \n",
            " tchNormalization)                                               \n",
            "                                                                 \n",
            " dropout_14 (Dropout)        (None, 128)               0         \n",
            "                                                                 \n",
            " dense_14 (Dense)            (None, 2)                 258       \n",
            "                                                                 \n",
            "=================================================================\n",
            "Total params: 20192450 (77.03 MB)\n",
            "Trainable params: 166274 (649.51 KB)\n",
            "Non-trainable params: 20026176 (76.39 MB)\n",
            "_________________________________________________________________\n"
          ]
        }
      ]
    },
    {
      "cell_type": "code",
      "source": [
        "steps_per_epoch_training = len(train_generator)\n",
        "steps_per_epoch_validation = len(validation_generator)\n",
        "num_epochs = 30\n",
        "early_stopping = EarlyStopping(patience=5, monitor='val_loss')\n",
        "\n",
        "fit_history3 = model3.fit_generator(\n",
        "    train_generator,\n",
        "    steps_per_epoch=steps_per_epoch_training,\n",
        "    epochs=num_epochs,\n",
        "    validation_data=validation_generator,\n",
        "    validation_steps=steps_per_epoch_validation,\n",
        "    verbose=1,callbacks=[early_stopping]\n",
        ")"
      ],
      "metadata": {
        "id": "b0DRlltVnfVm",
        "colab": {
          "base_uri": "https://localhost:8080/"
        },
        "outputId": "7c226491-6d28-4213-f76f-73f83044b017"
      },
      "execution_count": 36,
      "outputs": [
        {
          "output_type": "stream",
          "name": "stderr",
          "text": [
            "<ipython-input-36-b03dc3c78e3a>:6: UserWarning: `Model.fit_generator` is deprecated and will be removed in a future version. Please use `Model.fit`, which supports generators.\n",
            "  fit_history3 = model3.fit_generator(\n"
          ]
        },
        {
          "output_type": "stream",
          "name": "stdout",
          "text": [
            "Epoch 1/30\n",
            "21/21 [==============================] - 70s 2s/step - loss: 1.3242 - accuracy: 0.5741 - val_loss: 1.3045 - val_accuracy: 0.5042\n",
            "Epoch 2/30\n",
            "21/21 [==============================] - 35s 2s/step - loss: 1.1162 - accuracy: 0.6385 - val_loss: 1.0362 - val_accuracy: 0.5714\n",
            "Epoch 3/30\n",
            "21/21 [==============================] - 33s 2s/step - loss: 1.0264 - accuracy: 0.6810 - val_loss: 0.9029 - val_accuracy: 0.7101\n",
            "Epoch 4/30\n",
            "21/21 [==============================] - 33s 2s/step - loss: 0.9012 - accuracy: 0.7509 - val_loss: 0.8656 - val_accuracy: 0.7437\n",
            "Epoch 5/30\n",
            "21/21 [==============================] - 35s 2s/step - loss: 0.9188 - accuracy: 0.7473 - val_loss: 0.7676 - val_accuracy: 0.7941\n",
            "Epoch 6/30\n",
            "21/21 [==============================] - 34s 2s/step - loss: 0.8335 - accuracy: 0.7831 - val_loss: 0.8217 - val_accuracy: 0.7773\n",
            "Epoch 7/30\n",
            "21/21 [==============================] - 33s 2s/step - loss: 0.7733 - accuracy: 0.7995 - val_loss: 0.8058 - val_accuracy: 0.7983\n",
            "Epoch 8/30\n",
            "21/21 [==============================] - 33s 2s/step - loss: 0.7861 - accuracy: 0.8141 - val_loss: 0.8375 - val_accuracy: 0.7647\n",
            "Epoch 9/30\n",
            "21/21 [==============================] - 35s 2s/step - loss: 0.7514 - accuracy: 0.8238 - val_loss: 0.8106 - val_accuracy: 0.7899\n",
            "Epoch 10/30\n",
            "21/21 [==============================] - 35s 2s/step - loss: 0.7255 - accuracy: 0.8256 - val_loss: 0.7911 - val_accuracy: 0.7857\n"
          ]
        }
      ]
    },
    {
      "cell_type": "markdown",
      "source": [
        "## DenseNet201"
      ],
      "metadata": {
        "id": "iATTLDaKn331"
      }
    },
    {
      "cell_type": "code",
      "source": [
        "model4 = Sequential()\n",
        "model4.add(DenseNet201(\n",
        "    include_top=False,\n",
        "    pooling='avg',\n",
        "    weights='imagenet',\n",
        "    classifier_activation=\"softmax\"\n",
        "    ))\n",
        "model4.add(BatchNormalization())\n",
        "model4.add(Dropout(0.5))\n",
        "model4.add(Dense(256, activation='relu'))\n",
        "model4.add(BatchNormalization())\n",
        "model4.add(Dropout(0.3))\n",
        "model4.add(Dense(128, activation='relu'))\n",
        "model4.add(BatchNormalization())\n",
        "model4.add(Dropout(0.3))\n",
        "model4.add(Dense(num_classes, activation='sigmoid',kernel_regularizer=regularizers.l1_l2(l1=0.01, l2=0.01)))\n",
        "model4.layers[0].trainable = False\n",
        "model4.summary()\n",
        "model4.compile(optimizer=keras.optimizers.Adam(learning_rate=0.0001), loss='categorical_crossentropy', metrics=['accuracy'])"
      ],
      "metadata": {
        "id": "CX1ZbXz3n65Q",
        "colab": {
          "base_uri": "https://localhost:8080/"
        },
        "outputId": "1b715959-5835-47b9-c6f6-61faeaf32e01"
      },
      "execution_count": 37,
      "outputs": [
        {
          "output_type": "stream",
          "name": "stdout",
          "text": [
            "Downloading data from https://storage.googleapis.com/tensorflow/keras-applications/densenet/densenet201_weights_tf_dim_ordering_tf_kernels_notop.h5\n",
            "74836368/74836368 [==============================] - 4s 0us/step\n",
            "Model: \"sequential_5\"\n",
            "_________________________________________________________________\n",
            " Layer (type)                Output Shape              Param #   \n",
            "=================================================================\n",
            " densenet201 (Functional)    (None, 1920)              18321984  \n",
            "                                                                 \n",
            " batch_normalization_15 (Ba  (None, 1920)              7680      \n",
            " tchNormalization)                                               \n",
            "                                                                 \n",
            " dropout_15 (Dropout)        (None, 1920)              0         \n",
            "                                                                 \n",
            " dense_15 (Dense)            (None, 256)               491776    \n",
            "                                                                 \n",
            " batch_normalization_16 (Ba  (None, 256)               1024      \n",
            " tchNormalization)                                               \n",
            "                                                                 \n",
            " dropout_16 (Dropout)        (None, 256)               0         \n",
            "                                                                 \n",
            " dense_16 (Dense)            (None, 128)               32896     \n",
            "                                                                 \n",
            " batch_normalization_17 (Ba  (None, 128)               512       \n",
            " tchNormalization)                                               \n",
            "                                                                 \n",
            " dropout_17 (Dropout)        (None, 128)               0         \n",
            "                                                                 \n",
            " dense_17 (Dense)            (None, 2)                 258       \n",
            "                                                                 \n",
            "=================================================================\n",
            "Total params: 18856130 (71.93 MB)\n",
            "Trainable params: 529538 (2.02 MB)\n",
            "Non-trainable params: 18326592 (69.91 MB)\n",
            "_________________________________________________________________\n"
          ]
        }
      ]
    },
    {
      "cell_type": "code",
      "source": [
        "steps_per_epoch_training = len(train_generator)\n",
        "steps_per_epoch_validation = len(validation_generator)\n",
        "num_epochs = 30\n",
        "early_stopping = EarlyStopping(patience=5, monitor='val_loss')\n",
        "\n",
        "fit_history4 = model4.fit_generator(\n",
        "    train_generator,\n",
        "    steps_per_epoch=steps_per_epoch_training,\n",
        "    epochs=num_epochs,\n",
        "    validation_data=validation_generator,\n",
        "    validation_steps=steps_per_epoch_validation,\n",
        "    verbose=1,callbacks=[early_stopping]\n",
        ")"
      ],
      "metadata": {
        "id": "croEeQACokfC",
        "colab": {
          "base_uri": "https://localhost:8080/"
        },
        "outputId": "67e6b664-3d0a-488f-973c-a19617246708"
      },
      "execution_count": 38,
      "outputs": [
        {
          "output_type": "stream",
          "name": "stderr",
          "text": [
            "<ipython-input-38-83137be84c21>:6: UserWarning: `Model.fit_generator` is deprecated and will be removed in a future version. Please use `Model.fit`, which supports generators.\n",
            "  fit_history4 = model4.fit_generator(\n"
          ]
        },
        {
          "output_type": "stream",
          "name": "stdout",
          "text": [
            "Epoch 1/30\n",
            "21/21 [==============================] - 79s 3s/step - loss: 1.0324 - accuracy: 0.6877 - val_loss: 0.8160 - val_accuracy: 0.7899\n",
            "Epoch 2/30\n",
            "21/21 [==============================] - 39s 2s/step - loss: 0.7581 - accuracy: 0.8238 - val_loss: 0.7434 - val_accuracy: 0.8235\n",
            "Epoch 3/30\n",
            "21/21 [==============================] - 33s 2s/step - loss: 0.6867 - accuracy: 0.8572 - val_loss: 0.7410 - val_accuracy: 0.8277\n",
            "Epoch 4/30\n",
            "21/21 [==============================] - 33s 2s/step - loss: 0.6224 - accuracy: 0.8834 - val_loss: 0.7370 - val_accuracy: 0.8193\n",
            "Epoch 5/30\n",
            "21/21 [==============================] - 33s 2s/step - loss: 0.5975 - accuracy: 0.8888 - val_loss: 0.7289 - val_accuracy: 0.8403\n",
            "Epoch 6/30\n",
            "21/21 [==============================] - 33s 2s/step - loss: 0.5584 - accuracy: 0.9028 - val_loss: 0.7279 - val_accuracy: 0.8445\n",
            "Epoch 7/30\n",
            "21/21 [==============================] - 33s 2s/step - loss: 0.5456 - accuracy: 0.9022 - val_loss: 0.6859 - val_accuracy: 0.8361\n",
            "Epoch 8/30\n",
            "21/21 [==============================] - 33s 2s/step - loss: 0.5249 - accuracy: 0.9089 - val_loss: 0.6898 - val_accuracy: 0.8571\n",
            "Epoch 9/30\n",
            "21/21 [==============================] - 35s 2s/step - loss: 0.5101 - accuracy: 0.9089 - val_loss: 0.7059 - val_accuracy: 0.8529\n",
            "Epoch 10/30\n",
            "21/21 [==============================] - 33s 2s/step - loss: 0.5003 - accuracy: 0.9222 - val_loss: 0.6726 - val_accuracy: 0.8403\n",
            "Epoch 11/30\n",
            "21/21 [==============================] - 33s 2s/step - loss: 0.4868 - accuracy: 0.9228 - val_loss: 0.6808 - val_accuracy: 0.8445\n",
            "Epoch 12/30\n",
            "21/21 [==============================] - 33s 2s/step - loss: 0.4891 - accuracy: 0.9222 - val_loss: 0.6313 - val_accuracy: 0.8487\n",
            "Epoch 13/30\n",
            "21/21 [==============================] - 35s 2s/step - loss: 0.4790 - accuracy: 0.9265 - val_loss: 0.6096 - val_accuracy: 0.8908\n",
            "Epoch 14/30\n",
            "21/21 [==============================] - 34s 2s/step - loss: 0.4785 - accuracy: 0.9301 - val_loss: 0.6697 - val_accuracy: 0.8445\n",
            "Epoch 15/30\n",
            "21/21 [==============================] - 33s 2s/step - loss: 0.4314 - accuracy: 0.9423 - val_loss: 0.5974 - val_accuracy: 0.9076\n",
            "Epoch 16/30\n",
            "21/21 [==============================] - 34s 2s/step - loss: 0.4302 - accuracy: 0.9374 - val_loss: 0.5840 - val_accuracy: 0.8908\n",
            "Epoch 17/30\n",
            "21/21 [==============================] - 35s 2s/step - loss: 0.4302 - accuracy: 0.9374 - val_loss: 0.5880 - val_accuracy: 0.8908\n",
            "Epoch 18/30\n",
            "21/21 [==============================] - 33s 2s/step - loss: 0.4268 - accuracy: 0.9429 - val_loss: 0.5826 - val_accuracy: 0.8908\n",
            "Epoch 19/30\n",
            "21/21 [==============================] - 39s 2s/step - loss: 0.4251 - accuracy: 0.9508 - val_loss: 0.6115 - val_accuracy: 0.8739\n",
            "Epoch 20/30\n",
            "21/21 [==============================] - 33s 2s/step - loss: 0.4269 - accuracy: 0.9459 - val_loss: 0.5311 - val_accuracy: 0.9076\n",
            "Epoch 21/30\n",
            "21/21 [==============================] - 33s 2s/step - loss: 0.4073 - accuracy: 0.9496 - val_loss: 0.5913 - val_accuracy: 0.8613\n",
            "Epoch 22/30\n",
            "21/21 [==============================] - 40s 2s/step - loss: 0.4173 - accuracy: 0.9526 - val_loss: 0.5414 - val_accuracy: 0.8824\n",
            "Epoch 23/30\n",
            "21/21 [==============================] - 33s 2s/step - loss: 0.3916 - accuracy: 0.9508 - val_loss: 0.5485 - val_accuracy: 0.8487\n",
            "Epoch 24/30\n",
            "21/21 [==============================] - 33s 2s/step - loss: 0.3907 - accuracy: 0.9453 - val_loss: 0.5629 - val_accuracy: 0.8782\n",
            "Epoch 25/30\n",
            "21/21 [==============================] - 33s 2s/step - loss: 0.4057 - accuracy: 0.9441 - val_loss: 0.5907 - val_accuracy: 0.8824\n"
          ]
        }
      ]
    },
    {
      "cell_type": "markdown",
      "source": [
        "## MobileNetV2"
      ],
      "metadata": {
        "id": "PvChRUiyos69"
      }
    },
    {
      "cell_type": "code",
      "source": [
        "model5 = Sequential()\n",
        "model5.add(MobileNetV2(\n",
        "    include_top=False,\n",
        "    pooling='avg',\n",
        "    weights='imagenet',\n",
        "    classifier_activation=\"softmax\"\n",
        "    ))\n",
        "model5.add(BatchNormalization())\n",
        "model5.add(Dropout(0.5))\n",
        "model5.add(Dense(256, activation='relu'))\n",
        "model5.add(BatchNormalization())\n",
        "model5.add(Dropout(0.3))\n",
        "model5.add(Dense(128, activation='relu'))\n",
        "model5.add(BatchNormalization())\n",
        "model5.add(Dropout(0.3))\n",
        "model5.add(Dense(num_classes, activation='sigmoid',kernel_regularizer=regularizers.l1_l2(l1=0.01, l2=0.01)))\n",
        "model5.layers[0].trainable = False\n",
        "model5.summary()\n",
        "model5.compile(optimizer=keras.optimizers.Adam(learning_rate=0.0001), loss='categorical_crossentropy', metrics=['accuracy'])"
      ],
      "metadata": {
        "id": "9O3gC2EUoz2N",
        "colab": {
          "base_uri": "https://localhost:8080/"
        },
        "outputId": "da52f882-4039-4b2f-9ea5-e4b0c5ddeec0"
      },
      "execution_count": 39,
      "outputs": [
        {
          "output_type": "stream",
          "name": "stderr",
          "text": [
            "WARNING:tensorflow:`input_shape` is undefined or non-square, or `rows` is not in [96, 128, 160, 192, 224]. Weights for input shape (224, 224) will be loaded as the default.\n"
          ]
        },
        {
          "output_type": "stream",
          "name": "stdout",
          "text": [
            "Downloading data from https://storage.googleapis.com/tensorflow/keras-applications/mobilenet_v2/mobilenet_v2_weights_tf_dim_ordering_tf_kernels_1.0_224_no_top.h5\n",
            "9406464/9406464 [==============================] - 1s 0us/step\n",
            "Model: \"sequential_6\"\n",
            "_________________________________________________________________\n",
            " Layer (type)                Output Shape              Param #   \n",
            "=================================================================\n",
            " mobilenetv2_1.00_224 (Func  (None, 1280)              2257984   \n",
            " tional)                                                         \n",
            "                                                                 \n",
            " batch_normalization_18 (Ba  (None, 1280)              5120      \n",
            " tchNormalization)                                               \n",
            "                                                                 \n",
            " dropout_18 (Dropout)        (None, 1280)              0         \n",
            "                                                                 \n",
            " dense_18 (Dense)            (None, 256)               327936    \n",
            "                                                                 \n",
            " batch_normalization_19 (Ba  (None, 256)               1024      \n",
            " tchNormalization)                                               \n",
            "                                                                 \n",
            " dropout_19 (Dropout)        (None, 256)               0         \n",
            "                                                                 \n",
            " dense_19 (Dense)            (None, 128)               32896     \n",
            "                                                                 \n",
            " batch_normalization_20 (Ba  (None, 128)               512       \n",
            " tchNormalization)                                               \n",
            "                                                                 \n",
            " dropout_20 (Dropout)        (None, 128)               0         \n",
            "                                                                 \n",
            " dense_20 (Dense)            (None, 2)                 258       \n",
            "                                                                 \n",
            "=================================================================\n",
            "Total params: 2625730 (10.02 MB)\n",
            "Trainable params: 364418 (1.39 MB)\n",
            "Non-trainable params: 2261312 (8.63 MB)\n",
            "_________________________________________________________________\n"
          ]
        }
      ]
    },
    {
      "cell_type": "code",
      "source": [
        "steps_per_epoch_training = len(train_generator)\n",
        "steps_per_epoch_validation = len(validation_generator)\n",
        "num_epochs = 30\n",
        "early_stopping = EarlyStopping(patience=5, monitor='val_loss')\n",
        "\n",
        "fit_history5 = model5.fit_generator(\n",
        "    train_generator,\n",
        "    steps_per_epoch=steps_per_epoch_training,\n",
        "    epochs=num_epochs,\n",
        "    validation_data=validation_generator,\n",
        "    validation_steps=steps_per_epoch_validation,\n",
        "    verbose=1,callbacks=[early_stopping]\n",
        ")"
      ],
      "metadata": {
        "id": "ow4JZhSApAOu",
        "colab": {
          "base_uri": "https://localhost:8080/"
        },
        "outputId": "6f9a8784-700c-4138-9f01-e46f91299978"
      },
      "execution_count": 40,
      "outputs": [
        {
          "output_type": "stream",
          "name": "stderr",
          "text": [
            "<ipython-input-40-c2ccf30a56a6>:6: UserWarning: `Model.fit_generator` is deprecated and will be removed in a future version. Please use `Model.fit`, which supports generators.\n",
            "  fit_history5 = model5.fit_generator(\n"
          ]
        },
        {
          "output_type": "stream",
          "name": "stdout",
          "text": [
            "Epoch 1/30\n",
            "21/21 [==============================] - 40s 2s/step - loss: 1.1529 - accuracy: 0.6039 - val_loss: 0.9546 - val_accuracy: 0.6765\n",
            "Epoch 2/30\n",
            "21/21 [==============================] - 31s 1s/step - loss: 0.9768 - accuracy: 0.7066 - val_loss: 0.8925 - val_accuracy: 0.7143\n",
            "Epoch 3/30\n",
            "21/21 [==============================] - 31s 2s/step - loss: 0.8384 - accuracy: 0.7704 - val_loss: 0.8671 - val_accuracy: 0.7185\n",
            "Epoch 4/30\n",
            "21/21 [==============================] - 31s 1s/step - loss: 0.8165 - accuracy: 0.7789 - val_loss: 0.8796 - val_accuracy: 0.7185\n",
            "Epoch 5/30\n",
            "21/21 [==============================] - 31s 1s/step - loss: 0.8257 - accuracy: 0.7861 - val_loss: 0.8346 - val_accuracy: 0.7269\n",
            "Epoch 6/30\n",
            "21/21 [==============================] - 31s 1s/step - loss: 0.7644 - accuracy: 0.8032 - val_loss: 0.8221 - val_accuracy: 0.7269\n",
            "Epoch 7/30\n",
            "21/21 [==============================] - 32s 1s/step - loss: 0.7675 - accuracy: 0.7977 - val_loss: 0.7827 - val_accuracy: 0.7815\n",
            "Epoch 8/30\n",
            "21/21 [==============================] - 31s 1s/step - loss: 0.7668 - accuracy: 0.8074 - val_loss: 0.7421 - val_accuracy: 0.7983\n",
            "Epoch 9/30\n",
            "21/21 [==============================] - 31s 1s/step - loss: 0.7302 - accuracy: 0.8269 - val_loss: 0.7823 - val_accuracy: 0.7731\n",
            "Epoch 10/30\n",
            "21/21 [==============================] - 31s 1s/step - loss: 0.6900 - accuracy: 0.8366 - val_loss: 0.6937 - val_accuracy: 0.7899\n",
            "Epoch 11/30\n",
            "21/21 [==============================] - 32s 1s/step - loss: 0.6906 - accuracy: 0.8372 - val_loss: 0.6701 - val_accuracy: 0.8319\n",
            "Epoch 12/30\n",
            "21/21 [==============================] - 31s 2s/step - loss: 0.6978 - accuracy: 0.8323 - val_loss: 0.6838 - val_accuracy: 0.8403\n",
            "Epoch 13/30\n",
            "21/21 [==============================] - 31s 2s/step - loss: 0.6584 - accuracy: 0.8487 - val_loss: 0.7266 - val_accuracy: 0.7899\n",
            "Epoch 14/30\n",
            "21/21 [==============================] - 31s 1s/step - loss: 0.6756 - accuracy: 0.8457 - val_loss: 0.6586 - val_accuracy: 0.8193\n",
            "Epoch 15/30\n",
            "21/21 [==============================] - 31s 1s/step - loss: 0.6652 - accuracy: 0.8487 - val_loss: 0.6564 - val_accuracy: 0.8361\n",
            "Epoch 16/30\n",
            "21/21 [==============================] - 35s 2s/step - loss: 0.6213 - accuracy: 0.8639 - val_loss: 0.6711 - val_accuracy: 0.8277\n",
            "Epoch 17/30\n",
            "21/21 [==============================] - 31s 1s/step - loss: 0.6281 - accuracy: 0.8609 - val_loss: 0.6623 - val_accuracy: 0.8235\n",
            "Epoch 18/30\n",
            "21/21 [==============================] - 31s 1s/step - loss: 0.6352 - accuracy: 0.8536 - val_loss: 0.6294 - val_accuracy: 0.8529\n",
            "Epoch 19/30\n",
            "21/21 [==============================] - 31s 1s/step - loss: 0.5964 - accuracy: 0.8718 - val_loss: 0.5734 - val_accuracy: 0.8613\n",
            "Epoch 20/30\n",
            "21/21 [==============================] - 31s 1s/step - loss: 0.5924 - accuracy: 0.8718 - val_loss: 0.5977 - val_accuracy: 0.8403\n",
            "Epoch 21/30\n",
            "21/21 [==============================] - 31s 1s/step - loss: 0.5769 - accuracy: 0.8712 - val_loss: 0.6022 - val_accuracy: 0.8403\n",
            "Epoch 22/30\n",
            "21/21 [==============================] - 31s 2s/step - loss: 0.5669 - accuracy: 0.8773 - val_loss: 0.6230 - val_accuracy: 0.8361\n",
            "Epoch 23/30\n",
            "21/21 [==============================] - 31s 1s/step - loss: 0.5750 - accuracy: 0.8834 - val_loss: 0.6371 - val_accuracy: 0.8403\n",
            "Epoch 24/30\n",
            "21/21 [==============================] - 31s 1s/step - loss: 0.5636 - accuracy: 0.8876 - val_loss: 0.6320 - val_accuracy: 0.8571\n"
          ]
        }
      ]
    },
    {
      "cell_type": "markdown",
      "source": [
        "## EfficientNetB7"
      ],
      "metadata": {
        "id": "eyXg0yCKplrW"
      }
    },
    {
      "cell_type": "code",
      "source": [
        "model6 = Sequential()\n",
        "model6.add(MobileNetV2(\n",
        "    include_top=False,\n",
        "    pooling='avg',\n",
        "    weights='imagenet',\n",
        "    classifier_activation=\"softmax\"\n",
        "    ))\n",
        "model6.add(BatchNormalization())\n",
        "model6.add(Dropout(0.5))\n",
        "model6.add(Dense(256, activation='relu'))\n",
        "model6.add(BatchNormalization())\n",
        "model6.add(Dropout(0.3))\n",
        "model6.add(Dense(128, activation='relu'))\n",
        "model6.add(BatchNormalization())\n",
        "model6.add(Dropout(0.3))\n",
        "model6.add(Dense(num_classes, activation='sigmoid',kernel_regularizer=regularizers.l1_l2(l1=0.01, l2=0.01)))\n",
        "model6.layers[0].trainable = False\n",
        "model6.summary()\n",
        "model6.compile(optimizer=keras.optimizers.Adam(learning_rate=0.0001), loss='categorical_crossentropy', metrics=['accuracy'])"
      ],
      "metadata": {
        "id": "YxKFJS1Opo6F",
        "colab": {
          "base_uri": "https://localhost:8080/"
        },
        "outputId": "802d452a-9a29-4117-c7a5-4c5f154ed22b"
      },
      "execution_count": 41,
      "outputs": [
        {
          "output_type": "stream",
          "name": "stderr",
          "text": [
            "WARNING:tensorflow:`input_shape` is undefined or non-square, or `rows` is not in [96, 128, 160, 192, 224]. Weights for input shape (224, 224) will be loaded as the default.\n"
          ]
        },
        {
          "output_type": "stream",
          "name": "stdout",
          "text": [
            "Model: \"sequential_7\"\n",
            "_________________________________________________________________\n",
            " Layer (type)                Output Shape              Param #   \n",
            "=================================================================\n",
            " mobilenetv2_1.00_224 (Func  (None, 1280)              2257984   \n",
            " tional)                                                         \n",
            "                                                                 \n",
            " batch_normalization_21 (Ba  (None, 1280)              5120      \n",
            " tchNormalization)                                               \n",
            "                                                                 \n",
            " dropout_21 (Dropout)        (None, 1280)              0         \n",
            "                                                                 \n",
            " dense_21 (Dense)            (None, 256)               327936    \n",
            "                                                                 \n",
            " batch_normalization_22 (Ba  (None, 256)               1024      \n",
            " tchNormalization)                                               \n",
            "                                                                 \n",
            " dropout_22 (Dropout)        (None, 256)               0         \n",
            "                                                                 \n",
            " dense_22 (Dense)            (None, 128)               32896     \n",
            "                                                                 \n",
            " batch_normalization_23 (Ba  (None, 128)               512       \n",
            " tchNormalization)                                               \n",
            "                                                                 \n",
            " dropout_23 (Dropout)        (None, 128)               0         \n",
            "                                                                 \n",
            " dense_23 (Dense)            (None, 2)                 258       \n",
            "                                                                 \n",
            "=================================================================\n",
            "Total params: 2625730 (10.02 MB)\n",
            "Trainable params: 364418 (1.39 MB)\n",
            "Non-trainable params: 2261312 (8.63 MB)\n",
            "_________________________________________________________________\n"
          ]
        }
      ]
    },
    {
      "cell_type": "code",
      "source": [
        "steps_per_epoch_training = len(train_generator)\n",
        "steps_per_epoch_validation = len(validation_generator)\n",
        "num_epochs = 30\n",
        "early_stopping = EarlyStopping(patience=5, monitor='val_loss')\n",
        "\n",
        "fit_history6 = model6.fit_generator(\n",
        "    train_generator,\n",
        "    steps_per_epoch=steps_per_epoch_training,\n",
        "    epochs=num_epochs,\n",
        "    validation_data=validation_generator,\n",
        "    validation_steps=steps_per_epoch_validation,\n",
        "    verbose=1,callbacks=[early_stopping]\n",
        ")"
      ],
      "metadata": {
        "id": "D1VfAmHqppOE",
        "colab": {
          "base_uri": "https://localhost:8080/"
        },
        "outputId": "507ceeba-e9be-4d2b-af00-a5ad694e43e2"
      },
      "execution_count": 42,
      "outputs": [
        {
          "output_type": "stream",
          "name": "stderr",
          "text": [
            "<ipython-input-42-64c94ce5cf90>:6: UserWarning: `Model.fit_generator` is deprecated and will be removed in a future version. Please use `Model.fit`, which supports generators.\n",
            "  fit_history6 = model6.fit_generator(\n"
          ]
        },
        {
          "output_type": "stream",
          "name": "stdout",
          "text": [
            "Epoch 1/30\n",
            "21/21 [==============================] - 38s 2s/step - loss: 1.1667 - accuracy: 0.6233 - val_loss: 0.8916 - val_accuracy: 0.6555\n",
            "Epoch 2/30\n",
            "21/21 [==============================] - 31s 2s/step - loss: 0.9889 - accuracy: 0.7163 - val_loss: 0.8331 - val_accuracy: 0.7311\n",
            "Epoch 3/30\n",
            "21/21 [==============================] - 31s 1s/step - loss: 0.8696 - accuracy: 0.7546 - val_loss: 0.7966 - val_accuracy: 0.7395\n",
            "Epoch 4/30\n",
            "21/21 [==============================] - 31s 2s/step - loss: 0.8644 - accuracy: 0.7588 - val_loss: 0.7778 - val_accuracy: 0.8025\n",
            "Epoch 5/30\n",
            "21/21 [==============================] - 31s 2s/step - loss: 0.8390 - accuracy: 0.7746 - val_loss: 0.7937 - val_accuracy: 0.7857\n",
            "Epoch 6/30\n",
            "21/21 [==============================] - 31s 1s/step - loss: 0.8014 - accuracy: 0.7831 - val_loss: 0.7549 - val_accuracy: 0.7731\n",
            "Epoch 7/30\n",
            "21/21 [==============================] - 31s 1s/step - loss: 0.7470 - accuracy: 0.8080 - val_loss: 0.7401 - val_accuracy: 0.8151\n",
            "Epoch 8/30\n",
            "21/21 [==============================] - 35s 2s/step - loss: 0.7362 - accuracy: 0.8104 - val_loss: 0.7160 - val_accuracy: 0.8235\n",
            "Epoch 9/30\n",
            "21/21 [==============================] - 31s 1s/step - loss: 0.7004 - accuracy: 0.8384 - val_loss: 0.7128 - val_accuracy: 0.8445\n",
            "Epoch 10/30\n",
            "21/21 [==============================] - 31s 1s/step - loss: 0.6741 - accuracy: 0.8354 - val_loss: 0.6882 - val_accuracy: 0.8319\n",
            "Epoch 11/30\n",
            "21/21 [==============================] - 31s 1s/step - loss: 0.7016 - accuracy: 0.8402 - val_loss: 0.6662 - val_accuracy: 0.8235\n",
            "Epoch 12/30\n",
            "21/21 [==============================] - 31s 1s/step - loss: 0.6953 - accuracy: 0.8256 - val_loss: 0.6506 - val_accuracy: 0.8529\n",
            "Epoch 13/30\n",
            "21/21 [==============================] - 31s 1s/step - loss: 0.6632 - accuracy: 0.8408 - val_loss: 0.6397 - val_accuracy: 0.8193\n",
            "Epoch 14/30\n",
            "21/21 [==============================] - 31s 1s/step - loss: 0.6728 - accuracy: 0.8463 - val_loss: 0.6090 - val_accuracy: 0.8571\n",
            "Epoch 15/30\n",
            "21/21 [==============================] - 31s 1s/step - loss: 0.6284 - accuracy: 0.8542 - val_loss: 0.6172 - val_accuracy: 0.8361\n",
            "Epoch 16/30\n",
            "21/21 [==============================] - 31s 1s/step - loss: 0.6352 - accuracy: 0.8560 - val_loss: 0.6672 - val_accuracy: 0.8319\n",
            "Epoch 17/30\n",
            "21/21 [==============================] - 31s 1s/step - loss: 0.6488 - accuracy: 0.8457 - val_loss: 0.6430 - val_accuracy: 0.8361\n",
            "Epoch 18/30\n",
            "21/21 [==============================] - 31s 1s/step - loss: 0.6094 - accuracy: 0.8597 - val_loss: 0.5789 - val_accuracy: 0.8655\n",
            "Epoch 19/30\n",
            "21/21 [==============================] - 31s 1s/step - loss: 0.6307 - accuracy: 0.8572 - val_loss: 0.6078 - val_accuracy: 0.8445\n",
            "Epoch 20/30\n",
            "21/21 [==============================] - 31s 1s/step - loss: 0.6121 - accuracy: 0.8554 - val_loss: 0.5873 - val_accuracy: 0.8613\n",
            "Epoch 21/30\n",
            "21/21 [==============================] - 31s 2s/step - loss: 0.6227 - accuracy: 0.8615 - val_loss: 0.6114 - val_accuracy: 0.8403\n",
            "Epoch 22/30\n",
            "21/21 [==============================] - 31s 2s/step - loss: 0.5955 - accuracy: 0.8597 - val_loss: 0.5970 - val_accuracy: 0.8571\n",
            "Epoch 23/30\n",
            "21/21 [==============================] - 31s 1s/step - loss: 0.5960 - accuracy: 0.8748 - val_loss: 0.5948 - val_accuracy: 0.8445\n"
          ]
        }
      ]
    },
    {
      "cell_type": "code",
      "source": [
        "\n",
        "fig = plt.figure(figsize =  (10,7))\n",
        "\n",
        "plt.subplot(221)\n",
        "\n",
        "plt.plot(fit_history2.history['loss'], label='ResNet152-V2', color='navy')\n",
        "plt.plot(fit_history3.history['loss'], label='VGG19', color='red')\n",
        "plt.plot(fit_history4.history['loss'], label='DenseNet201', color='darkgreen')\n",
        "plt.plot(fit_history5.history['loss'], label='MobileNet-V2', color='darkorange')\n",
        "plt.plot(fit_history6.history['loss'], label='EfficientNetB7', color='fuchsia')\n",
        "\n",
        "plt.title('model loss')\n",
        "plt.ylabel('loss')\n",
        "plt.xlabel('epoch')\n",
        "plt.grid()\n",
        "plt.legend()\n",
        "\n",
        "plt.subplot(222)\n",
        "\n",
        "plt.plot(fit_history2.history['accuracy'], label='ResNet152-V2', color='navy')\n",
        "plt.plot(fit_history3.history['accuracy'], label='VGG19', color='red')\n",
        "plt.plot(fit_history4.history['accuracy'], label='DenseNet201', color='darkgreen')\n",
        "plt.plot(fit_history5.history['accuracy'], label='MobileNet-V2', color='darkorange')\n",
        "plt.plot(fit_history6.history['accuracy'], label='EfficientNetB7', color='fuchsia')\n",
        "plt.title('model accuracy')\n",
        "plt.ylabel('accuracy')\n",
        "plt.xlabel('epoch')\n",
        "plt.grid()\n",
        "plt.legend()\n",
        "\n",
        "plt.show()"
      ],
      "metadata": {
        "id": "FGZeTq0qraVX",
        "colab": {
          "base_uri": "https://localhost:8080/",
          "height": 347
        },
        "outputId": "be2d8864-b91e-4f91-936b-4b9bb47c40fe"
      },
      "execution_count": 43,
      "outputs": [
        {
          "output_type": "display_data",
          "data": {
            "text/plain": [
              "<Figure size 1000x700 with 2 Axes>"
            ],
            "image/png": "[encoded data removed]"
          },
          "metadata": {}
        }
      ]
    }
  ],
  "metadata": {
    "accelerator": "GPU",
    "colab": {
      "provenance": [],
      "gpuType": "T4"
    },
    "kernelspec": {
      "display_name": "Python 3",
      "name": "python3"
    },
    "language_info": {
      "codemirror_mode": {
        "name": "ipython",
        "version": 3
      },
      "file_extension": ".py",
      "mimetype": "text/x-python",
      "name": "python",
      "nbconvert_exporter": "python",
      "pygments_lexer": "ipython3",
      "version": "3.8.5"
    }
  },
  "nbformat": 4,
  "nbformat_minor": 0
}